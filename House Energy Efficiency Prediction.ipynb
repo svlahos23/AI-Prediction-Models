{
 "cells": [
  {
   "cell_type": "markdown",
   "id": "af896b3b",
   "metadata": {},
   "source": [
    "# Energy Efficiency Prediction from House Parameters"
   ]
  },
  {
   "cell_type": "markdown",
   "id": "4bcefaf1",
   "metadata": {},
   "source": [
    "This study looked into assessing the heating load and cooling load requirements of buildings (that is, energy efficiency) as a function of building parameters.\n",
    "\n",
    "We perform energy analysis using 12 different building shapes simulated in Ecotect. The buildings differ with respect to the glazing area, the glazing area distribution, and the orientation, amongst other parameters. We simulate various settings as functions of the afore-mentioned characteristics to obtain 768 building shapes. The dataset comprises 768 samples and 8 features, aiming to predict two real valued responses. It can also be used as a multi-class classification problem if the response is rounded to the nearest integer.\n",
    "\n",
    "This dataset was collected from the UCI Machine Learning Repository."
   ]
  },
  {
   "cell_type": "markdown",
   "id": "552e7732",
   "metadata": {},
   "source": [
    "## Loading Libraries"
   ]
  },
  {
   "cell_type": "code",
   "execution_count": 163,
   "id": "bd496422",
   "metadata": {},
   "outputs": [],
   "source": [
    "import pandas as pd\n",
    "from sklearn.preprocessing import MinMaxScaler\n",
    "import numpy as np\n",
    "import tensorflow as tf\n",
    "import matplotlib.pyplot as plt\n",
    "from tensorflow.keras.models import Model\n",
    "from tensorflow.keras.layers import Dense, Input\n",
    "from sklearn.model_selection import train_test_split\n",
    "from seaborn import heatmap\n",
    "import statsmodels.api as sm\n",
    "from statsmodels.stats.outliers_influence import variance_inflation_factor"
   ]
  },
  {
   "cell_type": "markdown",
   "id": "8aad6752",
   "metadata": {},
   "source": [
    "## Exploratory Data Analysis"
   ]
  },
  {
   "cell_type": "markdown",
   "id": "f3419e9f",
   "metadata": {},
   "source": [
    "### Loading DataFrame"
   ]
  },
  {
   "cell_type": "code",
   "execution_count": 164,
   "id": "78219152",
   "metadata": {},
   "outputs": [],
   "source": [
    "house_df = pd.read_csv(r\"C:\\Users\\Sebastian\\Downloads\\energy_efficiency_data.csv\")"
   ]
  },
  {
   "cell_type": "markdown",
   "id": "432c90b0",
   "metadata": {},
   "source": [
    "### Data Appearance and Description"
   ]
  },
  {
   "cell_type": "code",
   "execution_count": 165,
   "id": "3c13630a",
   "metadata": {},
   "outputs": [
    {
     "data": {
      "text/html": [
       "<div>\n",
       "<style scoped>\n",
       "    .dataframe tbody tr th:only-of-type {\n",
       "        vertical-align: middle;\n",
       "    }\n",
       "\n",
       "    .dataframe tbody tr th {\n",
       "        vertical-align: top;\n",
       "    }\n",
       "\n",
       "    .dataframe thead th {\n",
       "        text-align: right;\n",
       "    }\n",
       "</style>\n",
       "<table border=\"1\" class=\"dataframe\">\n",
       "  <thead>\n",
       "    <tr style=\"text-align: right;\">\n",
       "      <th></th>\n",
       "      <th>Relative_Compactness</th>\n",
       "      <th>Surface_Area</th>\n",
       "      <th>Wall_Area</th>\n",
       "      <th>Roof_Area</th>\n",
       "      <th>Overall_Height</th>\n",
       "      <th>Orientation</th>\n",
       "      <th>Glazing_Area</th>\n",
       "      <th>Glazing_Area_Distribution</th>\n",
       "      <th>Heating_Load</th>\n",
       "      <th>Cooling_Load</th>\n",
       "    </tr>\n",
       "  </thead>\n",
       "  <tbody>\n",
       "    <tr>\n",
       "      <th>0</th>\n",
       "      <td>0.98</td>\n",
       "      <td>514.5</td>\n",
       "      <td>294.0</td>\n",
       "      <td>110.25</td>\n",
       "      <td>7.0</td>\n",
       "      <td>2</td>\n",
       "      <td>0.0</td>\n",
       "      <td>0</td>\n",
       "      <td>15.55</td>\n",
       "      <td>21.33</td>\n",
       "    </tr>\n",
       "    <tr>\n",
       "      <th>1</th>\n",
       "      <td>0.98</td>\n",
       "      <td>514.5</td>\n",
       "      <td>294.0</td>\n",
       "      <td>110.25</td>\n",
       "      <td>7.0</td>\n",
       "      <td>3</td>\n",
       "      <td>0.0</td>\n",
       "      <td>0</td>\n",
       "      <td>15.55</td>\n",
       "      <td>21.33</td>\n",
       "    </tr>\n",
       "    <tr>\n",
       "      <th>2</th>\n",
       "      <td>0.98</td>\n",
       "      <td>514.5</td>\n",
       "      <td>294.0</td>\n",
       "      <td>110.25</td>\n",
       "      <td>7.0</td>\n",
       "      <td>4</td>\n",
       "      <td>0.0</td>\n",
       "      <td>0</td>\n",
       "      <td>15.55</td>\n",
       "      <td>21.33</td>\n",
       "    </tr>\n",
       "    <tr>\n",
       "      <th>3</th>\n",
       "      <td>0.98</td>\n",
       "      <td>514.5</td>\n",
       "      <td>294.0</td>\n",
       "      <td>110.25</td>\n",
       "      <td>7.0</td>\n",
       "      <td>5</td>\n",
       "      <td>0.0</td>\n",
       "      <td>0</td>\n",
       "      <td>15.55</td>\n",
       "      <td>21.33</td>\n",
       "    </tr>\n",
       "    <tr>\n",
       "      <th>4</th>\n",
       "      <td>0.90</td>\n",
       "      <td>563.5</td>\n",
       "      <td>318.5</td>\n",
       "      <td>122.50</td>\n",
       "      <td>7.0</td>\n",
       "      <td>2</td>\n",
       "      <td>0.0</td>\n",
       "      <td>0</td>\n",
       "      <td>20.84</td>\n",
       "      <td>28.28</td>\n",
       "    </tr>\n",
       "  </tbody>\n",
       "</table>\n",
       "</div>"
      ],
      "text/plain": [
       "   Relative_Compactness  Surface_Area  Wall_Area  Roof_Area  Overall_Height  \\\n",
       "0                  0.98         514.5      294.0     110.25             7.0   \n",
       "1                  0.98         514.5      294.0     110.25             7.0   \n",
       "2                  0.98         514.5      294.0     110.25             7.0   \n",
       "3                  0.98         514.5      294.0     110.25             7.0   \n",
       "4                  0.90         563.5      318.5     122.50             7.0   \n",
       "\n",
       "   Orientation  Glazing_Area  Glazing_Area_Distribution  Heating_Load  \\\n",
       "0            2           0.0                          0         15.55   \n",
       "1            3           0.0                          0         15.55   \n",
       "2            4           0.0                          0         15.55   \n",
       "3            5           0.0                          0         15.55   \n",
       "4            2           0.0                          0         20.84   \n",
       "\n",
       "   Cooling_Load  \n",
       "0         21.33  \n",
       "1         21.33  \n",
       "2         21.33  \n",
       "3         21.33  \n",
       "4         28.28  "
      ]
     },
     "execution_count": 165,
     "metadata": {},
     "output_type": "execute_result"
    }
   ],
   "source": [
    "house_df.head()"
   ]
  },
  {
   "cell_type": "code",
   "execution_count": 166,
   "id": "f3895553",
   "metadata": {},
   "outputs": [
    {
     "data": {
      "text/html": [
       "<div>\n",
       "<style scoped>\n",
       "    .dataframe tbody tr th:only-of-type {\n",
       "        vertical-align: middle;\n",
       "    }\n",
       "\n",
       "    .dataframe tbody tr th {\n",
       "        vertical-align: top;\n",
       "    }\n",
       "\n",
       "    .dataframe thead th {\n",
       "        text-align: right;\n",
       "    }\n",
       "</style>\n",
       "<table border=\"1\" class=\"dataframe\">\n",
       "  <thead>\n",
       "    <tr style=\"text-align: right;\">\n",
       "      <th></th>\n",
       "      <th>Relative_Compactness</th>\n",
       "      <th>Surface_Area</th>\n",
       "      <th>Wall_Area</th>\n",
       "      <th>Roof_Area</th>\n",
       "      <th>Overall_Height</th>\n",
       "      <th>Orientation</th>\n",
       "      <th>Glazing_Area</th>\n",
       "      <th>Glazing_Area_Distribution</th>\n",
       "      <th>Heating_Load</th>\n",
       "      <th>Cooling_Load</th>\n",
       "    </tr>\n",
       "  </thead>\n",
       "  <tbody>\n",
       "    <tr>\n",
       "      <th>count</th>\n",
       "      <td>768.000000</td>\n",
       "      <td>768.000000</td>\n",
       "      <td>768.000000</td>\n",
       "      <td>768.000000</td>\n",
       "      <td>768.00000</td>\n",
       "      <td>768.000000</td>\n",
       "      <td>768.000000</td>\n",
       "      <td>768.00000</td>\n",
       "      <td>768.000000</td>\n",
       "      <td>768.000000</td>\n",
       "    </tr>\n",
       "    <tr>\n",
       "      <th>mean</th>\n",
       "      <td>0.764167</td>\n",
       "      <td>671.708333</td>\n",
       "      <td>318.500000</td>\n",
       "      <td>176.604167</td>\n",
       "      <td>5.25000</td>\n",
       "      <td>3.500000</td>\n",
       "      <td>0.234375</td>\n",
       "      <td>2.81250</td>\n",
       "      <td>22.307201</td>\n",
       "      <td>24.587760</td>\n",
       "    </tr>\n",
       "    <tr>\n",
       "      <th>std</th>\n",
       "      <td>0.105777</td>\n",
       "      <td>88.086116</td>\n",
       "      <td>43.626481</td>\n",
       "      <td>45.165950</td>\n",
       "      <td>1.75114</td>\n",
       "      <td>1.118763</td>\n",
       "      <td>0.133221</td>\n",
       "      <td>1.55096</td>\n",
       "      <td>10.090196</td>\n",
       "      <td>9.513306</td>\n",
       "    </tr>\n",
       "    <tr>\n",
       "      <th>min</th>\n",
       "      <td>0.620000</td>\n",
       "      <td>514.500000</td>\n",
       "      <td>245.000000</td>\n",
       "      <td>110.250000</td>\n",
       "      <td>3.50000</td>\n",
       "      <td>2.000000</td>\n",
       "      <td>0.000000</td>\n",
       "      <td>0.00000</td>\n",
       "      <td>6.010000</td>\n",
       "      <td>10.900000</td>\n",
       "    </tr>\n",
       "    <tr>\n",
       "      <th>25%</th>\n",
       "      <td>0.682500</td>\n",
       "      <td>606.375000</td>\n",
       "      <td>294.000000</td>\n",
       "      <td>140.875000</td>\n",
       "      <td>3.50000</td>\n",
       "      <td>2.750000</td>\n",
       "      <td>0.100000</td>\n",
       "      <td>1.75000</td>\n",
       "      <td>12.992500</td>\n",
       "      <td>15.620000</td>\n",
       "    </tr>\n",
       "    <tr>\n",
       "      <th>50%</th>\n",
       "      <td>0.750000</td>\n",
       "      <td>673.750000</td>\n",
       "      <td>318.500000</td>\n",
       "      <td>183.750000</td>\n",
       "      <td>5.25000</td>\n",
       "      <td>3.500000</td>\n",
       "      <td>0.250000</td>\n",
       "      <td>3.00000</td>\n",
       "      <td>18.950000</td>\n",
       "      <td>22.080000</td>\n",
       "    </tr>\n",
       "    <tr>\n",
       "      <th>75%</th>\n",
       "      <td>0.830000</td>\n",
       "      <td>741.125000</td>\n",
       "      <td>343.000000</td>\n",
       "      <td>220.500000</td>\n",
       "      <td>7.00000</td>\n",
       "      <td>4.250000</td>\n",
       "      <td>0.400000</td>\n",
       "      <td>4.00000</td>\n",
       "      <td>31.667500</td>\n",
       "      <td>33.132500</td>\n",
       "    </tr>\n",
       "    <tr>\n",
       "      <th>max</th>\n",
       "      <td>0.980000</td>\n",
       "      <td>808.500000</td>\n",
       "      <td>416.500000</td>\n",
       "      <td>220.500000</td>\n",
       "      <td>7.00000</td>\n",
       "      <td>5.000000</td>\n",
       "      <td>0.400000</td>\n",
       "      <td>5.00000</td>\n",
       "      <td>43.100000</td>\n",
       "      <td>48.030000</td>\n",
       "    </tr>\n",
       "  </tbody>\n",
       "</table>\n",
       "</div>"
      ],
      "text/plain": [
       "       Relative_Compactness  Surface_Area   Wall_Area   Roof_Area  \\\n",
       "count            768.000000    768.000000  768.000000  768.000000   \n",
       "mean               0.764167    671.708333  318.500000  176.604167   \n",
       "std                0.105777     88.086116   43.626481   45.165950   \n",
       "min                0.620000    514.500000  245.000000  110.250000   \n",
       "25%                0.682500    606.375000  294.000000  140.875000   \n",
       "50%                0.750000    673.750000  318.500000  183.750000   \n",
       "75%                0.830000    741.125000  343.000000  220.500000   \n",
       "max                0.980000    808.500000  416.500000  220.500000   \n",
       "\n",
       "       Overall_Height  Orientation  Glazing_Area  Glazing_Area_Distribution  \\\n",
       "count       768.00000   768.000000    768.000000                  768.00000   \n",
       "mean          5.25000     3.500000      0.234375                    2.81250   \n",
       "std           1.75114     1.118763      0.133221                    1.55096   \n",
       "min           3.50000     2.000000      0.000000                    0.00000   \n",
       "25%           3.50000     2.750000      0.100000                    1.75000   \n",
       "50%           5.25000     3.500000      0.250000                    3.00000   \n",
       "75%           7.00000     4.250000      0.400000                    4.00000   \n",
       "max           7.00000     5.000000      0.400000                    5.00000   \n",
       "\n",
       "       Heating_Load  Cooling_Load  \n",
       "count    768.000000    768.000000  \n",
       "mean      22.307201     24.587760  \n",
       "std       10.090196      9.513306  \n",
       "min        6.010000     10.900000  \n",
       "25%       12.992500     15.620000  \n",
       "50%       18.950000     22.080000  \n",
       "75%       31.667500     33.132500  \n",
       "max       43.100000     48.030000  "
      ]
     },
     "execution_count": 166,
     "metadata": {},
     "output_type": "execute_result"
    }
   ],
   "source": [
    "house_df.describe()"
   ]
  },
  {
   "cell_type": "markdown",
   "id": "76d556b3",
   "metadata": {},
   "source": [
    "### Checkling for NaN Values"
   ]
  },
  {
   "cell_type": "code",
   "execution_count": 167,
   "id": "f59add9c",
   "metadata": {},
   "outputs": [
    {
     "data": {
      "text/plain": [
       "Relative_Compactness         0\n",
       "Surface_Area                 0\n",
       "Wall_Area                    0\n",
       "Roof_Area                    0\n",
       "Overall_Height               0\n",
       "Orientation                  0\n",
       "Glazing_Area                 0\n",
       "Glazing_Area_Distribution    0\n",
       "Heating_Load                 0\n",
       "Cooling_Load                 0\n",
       "dtype: int64"
      ]
     },
     "execution_count": 167,
     "metadata": {},
     "output_type": "execute_result"
    }
   ],
   "source": [
    "house_df.isnull().sum()"
   ]
  },
  {
   "cell_type": "markdown",
   "id": "33f2644e",
   "metadata": {},
   "source": [
    "There are no NaN values - do not have to handle in data preparation."
   ]
  },
  {
   "cell_type": "markdown",
   "id": "8014840b",
   "metadata": {},
   "source": [
    "### Checking for Outliers"
   ]
  },
  {
   "cell_type": "code",
   "execution_count": 168,
   "id": "93eb960b",
   "metadata": {
    "scrolled": true
   },
   "outputs": [
    {
     "data": {
      "image/png": "[encoded data removed]",
      "text/plain": [
       "<Figure size 720x2160 with 20 Axes>"
      ]
     },
     "metadata": {
      "needs_background": "light"
     },
     "output_type": "display_data"
    }
   ],
   "source": [
    "house_df.plot(kind = 'box', subplots = True, layout = (10,2), legend = True, figsize = (10, 30), grid = False)\n",
    "plt.tight_layout()"
   ]
  },
  {
   "cell_type": "markdown",
   "id": "c35434b9",
   "metadata": {},
   "source": [
    "There are no outliers - do not have to handle in data preparation."
   ]
  },
  {
   "cell_type": "markdown",
   "id": "c3ce0300",
   "metadata": {},
   "source": [
    "### Checking DataFrame Correlation"
   ]
  },
  {
   "cell_type": "code",
   "execution_count": 169,
   "id": "33d05b0b",
   "metadata": {},
   "outputs": [
    {
     "data": {
      "text/plain": [
       "<AxesSubplot:>"
      ]
     },
     "execution_count": 169,
     "metadata": {},
     "output_type": "execute_result"
    },
    {
     "data": {
      "image/png": "[encoded data removed]",
      "text/plain": [
       "<Figure size 432x288 with 2 Axes>"
      ]
     },
     "metadata": {
      "needs_background": "light"
     },
     "output_type": "display_data"
    }
   ],
   "source": [
    "corr = house_df.corr()\n",
    "heatmap(corr)"
   ]
  },
  {
   "cell_type": "markdown",
   "id": "5dad6cc0",
   "metadata": {},
   "source": [
    "There is a strong correlation between input and output variables meaning there is a discernable relationship between the two, allowing accurate predictions to be made. There is some correlation between input variables so variance inflation factors will be calculated during data preparation to account for this. "
   ]
  },
  {
   "cell_type": "markdown",
   "id": "238e6b4c",
   "metadata": {},
   "source": [
    "## Data Preparation"
   ]
  },
  {
   "cell_type": "markdown",
   "id": "38e82e9d",
   "metadata": {},
   "source": [
    "### Seperating DataFrame into Inputs and Outputs"
   ]
  },
  {
   "cell_type": "code",
   "execution_count": 170,
   "id": "e43a2cae",
   "metadata": {},
   "outputs": [],
   "source": [
    "x = house_df.drop([\"Heating_Load\", \"Cooling_Load\"], axis = 1)\n",
    "y1 = house_df[\"Heating_Load\"]\n",
    "y2 = house_df[\"Cooling_Load\"]"
   ]
  },
  {
   "cell_type": "markdown",
   "id": "c12b5753",
   "metadata": {},
   "source": [
    "### VIF Correlation Testing"
   ]
  },
  {
   "cell_type": "code",
   "execution_count": 171,
   "id": "3541b2a9",
   "metadata": {},
   "outputs": [
    {
     "data": {
      "text/html": [
       "<div>\n",
       "<style scoped>\n",
       "    .dataframe tbody tr th:only-of-type {\n",
       "        vertical-align: middle;\n",
       "    }\n",
       "\n",
       "    .dataframe tbody tr th {\n",
       "        vertical-align: top;\n",
       "    }\n",
       "\n",
       "    .dataframe thead th {\n",
       "        text-align: right;\n",
       "    }\n",
       "</style>\n",
       "<table border=\"1\" class=\"dataframe\">\n",
       "  <thead>\n",
       "    <tr style=\"text-align: right;\">\n",
       "      <th></th>\n",
       "      <th>Feature</th>\n",
       "      <th>VIF</th>\n",
       "    </tr>\n",
       "  </thead>\n",
       "  <tbody>\n",
       "    <tr>\n",
       "      <th>0</th>\n",
       "      <td>Relative_Compactness</td>\n",
       "      <td>26.195581</td>\n",
       "    </tr>\n",
       "    <tr>\n",
       "      <th>1</th>\n",
       "      <td>Wall_Area</td>\n",
       "      <td>32.237710</td>\n",
       "    </tr>\n",
       "    <tr>\n",
       "      <th>2</th>\n",
       "      <td>Roof_Area</td>\n",
       "      <td>11.425453</td>\n",
       "    </tr>\n",
       "    <tr>\n",
       "      <th>3</th>\n",
       "      <td>Orientation</td>\n",
       "      <td>10.792374</td>\n",
       "    </tr>\n",
       "    <tr>\n",
       "      <th>4</th>\n",
       "      <td>Glazing_Area</td>\n",
       "      <td>4.293307</td>\n",
       "    </tr>\n",
       "    <tr>\n",
       "      <th>5</th>\n",
       "      <td>Glazing_Area_Distribution</td>\n",
       "      <td>4.495918</td>\n",
       "    </tr>\n",
       "  </tbody>\n",
       "</table>\n",
       "</div>"
      ],
      "text/plain": [
       "                     Feature        VIF\n",
       "0       Relative_Compactness  26.195581\n",
       "1                  Wall_Area  32.237710\n",
       "2                  Roof_Area  11.425453\n",
       "3                Orientation  10.792374\n",
       "4               Glazing_Area   4.293307\n",
       "5  Glazing_Area_Distribution   4.495918"
      ]
     },
     "execution_count": 171,
     "metadata": {},
     "output_type": "execute_result"
    }
   ],
   "source": [
    "features = x[x.columns]\n",
    "features = sm.add_constant(features)\n",
    "low_variance_columns = [col for col in features.columns if 0 <= features[col].std() < 1e-10]\n",
    "features = features.drop(columns = low_variance_columns)\n",
    "corr_matrix = features.corr().abs()\n",
    "upper = corr_matrix.where(np.triu(np.ones(corr_matrix.shape), k = 1).astype(bool))\n",
    "to_drop = [column for column in upper.columns if any(upper[column] > 0.9)]\n",
    "features = features.drop(columns = to_drop)\n",
    "vif_data = pd.DataFrame()\n",
    "vif_data['Feature'] = features.columns\n",
    "vif_data['VIF'] = [variance_inflation_factor(features.values, i) for i in range(features.shape[1])]\n",
    "vif_data"
   ]
  },
  {
   "cell_type": "code",
   "execution_count": 172,
   "id": "476b9b23",
   "metadata": {},
   "outputs": [
    {
     "name": "stdout",
     "output_type": "stream",
     "text": [
      "Removing Wall_Area with VIF = 32.23770959042737\n",
      "Removing Relative_Compactness with VIF = 13.851043420125913\n",
      "Final VIF Data:\n",
      "                     Feature       VIF\n",
      "0                  Roof_Area  8.352319\n",
      "1                Orientation  7.427067\n",
      "2               Glazing_Area  4.023307\n",
      "3  Glazing_Area_Distribution  4.185505\n"
     ]
    }
   ],
   "source": [
    "def calculate_vif(df):\n",
    "    vif_data = pd.DataFrame()\n",
    "    vif_data['Feature'] = df.columns\n",
    "    vif_data['VIF'] = [variance_inflation_factor(df.values, i) for i in range(df.shape[1])]\n",
    "    return vif_data\n",
    "\n",
    "vif_data = calculate_vif(features)\n",
    "\n",
    "while vif_data['VIF'].max() > 10:\n",
    "    max_vif_feature = vif_data.loc[vif_data['VIF'].idxmax(), 'Feature']\n",
    "    print(f\"Removing {max_vif_feature} with VIF = {vif_data['VIF'].max()}\")\n",
    "    features = features.drop(columns=[max_vif_feature])\n",
    "    vif_data = calculate_vif(features)\n",
    "\n",
    "print(\"Final VIF Data:\")\n",
    "print(vif_data)"
   ]
  },
  {
   "cell_type": "code",
   "execution_count": 173,
   "id": "59de70b4",
   "metadata": {},
   "outputs": [],
   "source": [
    "x = x.drop([\"Wall_Area\", \"Relative_Compactness\"], axis = 1)"
   ]
  },
  {
   "cell_type": "markdown",
   "id": "0f8e77de",
   "metadata": {},
   "source": [
    "Removed two inputs since they are highly multi-colinear with VIF scores of over 10."
   ]
  },
  {
   "cell_type": "markdown",
   "id": "543aefd6",
   "metadata": {},
   "source": [
    "### Min-Max Scaling the Input Data"
   ]
  },
  {
   "cell_type": "code",
   "execution_count": 174,
   "id": "5ca05d2a",
   "metadata": {
    "scrolled": true
   },
   "outputs": [
    {
     "data": {
      "text/html": [
       "<div>\n",
       "<style scoped>\n",
       "    .dataframe tbody tr th:only-of-type {\n",
       "        vertical-align: middle;\n",
       "    }\n",
       "\n",
       "    .dataframe tbody tr th {\n",
       "        vertical-align: top;\n",
       "    }\n",
       "\n",
       "    .dataframe thead th {\n",
       "        text-align: right;\n",
       "    }\n",
       "</style>\n",
       "<table border=\"1\" class=\"dataframe\">\n",
       "  <thead>\n",
       "    <tr style=\"text-align: right;\">\n",
       "      <th></th>\n",
       "      <th>Surface_Area</th>\n",
       "      <th>Roof_Area</th>\n",
       "      <th>Overall_Height</th>\n",
       "      <th>Orientation</th>\n",
       "      <th>Glazing_Area</th>\n",
       "      <th>Glazing_Area_Distribution</th>\n",
       "    </tr>\n",
       "  </thead>\n",
       "  <tbody>\n",
       "    <tr>\n",
       "      <th>0</th>\n",
       "      <td>0.000000</td>\n",
       "      <td>0.000000</td>\n",
       "      <td>1.0</td>\n",
       "      <td>0.000000</td>\n",
       "      <td>0.0</td>\n",
       "      <td>0.0</td>\n",
       "    </tr>\n",
       "    <tr>\n",
       "      <th>1</th>\n",
       "      <td>0.000000</td>\n",
       "      <td>0.000000</td>\n",
       "      <td>1.0</td>\n",
       "      <td>0.333333</td>\n",
       "      <td>0.0</td>\n",
       "      <td>0.0</td>\n",
       "    </tr>\n",
       "    <tr>\n",
       "      <th>2</th>\n",
       "      <td>0.000000</td>\n",
       "      <td>0.000000</td>\n",
       "      <td>1.0</td>\n",
       "      <td>0.666667</td>\n",
       "      <td>0.0</td>\n",
       "      <td>0.0</td>\n",
       "    </tr>\n",
       "    <tr>\n",
       "      <th>3</th>\n",
       "      <td>0.000000</td>\n",
       "      <td>0.000000</td>\n",
       "      <td>1.0</td>\n",
       "      <td>1.000000</td>\n",
       "      <td>0.0</td>\n",
       "      <td>0.0</td>\n",
       "    </tr>\n",
       "    <tr>\n",
       "      <th>4</th>\n",
       "      <td>0.166667</td>\n",
       "      <td>0.111111</td>\n",
       "      <td>1.0</td>\n",
       "      <td>0.000000</td>\n",
       "      <td>0.0</td>\n",
       "      <td>0.0</td>\n",
       "    </tr>\n",
       "  </tbody>\n",
       "</table>\n",
       "</div>"
      ],
      "text/plain": [
       "   Surface_Area  Roof_Area  Overall_Height  Orientation  Glazing_Area  \\\n",
       "0      0.000000   0.000000             1.0     0.000000           0.0   \n",
       "1      0.000000   0.000000             1.0     0.333333           0.0   \n",
       "2      0.000000   0.000000             1.0     0.666667           0.0   \n",
       "3      0.000000   0.000000             1.0     1.000000           0.0   \n",
       "4      0.166667   0.111111             1.0     0.000000           0.0   \n",
       "\n",
       "   Glazing_Area_Distribution  \n",
       "0                        0.0  \n",
       "1                        0.0  \n",
       "2                        0.0  \n",
       "3                        0.0  \n",
       "4                        0.0  "
      ]
     },
     "execution_count": 174,
     "metadata": {},
     "output_type": "execute_result"
    }
   ],
   "source": [
    "scaler = MinMaxScaler()\n",
    "scaled_x = scaler.fit_transform(x)\n",
    "x = pd.DataFrame(scaled_x, columns = x.columns)\n",
    "x.head()"
   ]
  },
  {
   "cell_type": "markdown",
   "id": "1659d26b",
   "metadata": {},
   "source": [
    "### Separating Input and Output Data into Training and Testing Data"
   ]
  },
  {
   "cell_type": "code",
   "execution_count": 175,
   "id": "257fdd27",
   "metadata": {},
   "outputs": [],
   "source": [
    "house_df = pd.concat([x, y1, y2], axis = 1)\n",
    "d_train, d_test = train_test_split(house_df, test_size = 0.2)\n",
    "X_train, y1_train, y2_train = d_train.drop([\"Heating_Load\", \"Cooling_Load\"], axis = 1), d_train[\"Heating_Load\"], d_train[\"Cooling_Load\"]\n",
    "X_test, y1_test, y2_test = d_test.drop([\"Heating_Load\", \"Cooling_Load\"], axis = 1), d_test[\"Heating_Load\"], d_test[\"Cooling_Load\"]\n",
    "Y_train = (np.array(y1_train),np.array(y2_train))\n",
    "Y_test = (np.array(y1_test),np.array(y2_test))"
   ]
  },
  {
   "cell_type": "markdown",
   "id": "879d9e12",
   "metadata": {},
   "source": [
    "### Defining Model Shape"
   ]
  },
  {
   "cell_type": "code",
   "execution_count": 176,
   "id": "a6fc0575",
   "metadata": {},
   "outputs": [],
   "source": [
    "input_shape = (len(X_train.columns),)\n",
    "input_layer = Input(shape = input_shape)\n",
    "first_dense = Dense(units = 128, activation = \"relu\")(input_layer)\n",
    "second_dense = Dense(units = 128, activation = \"relu\")(first_dense)\n",
    "y1_output = Dense(units = 1, name = \"y1_output\")(second_dense)\n",
    "third_dense = Dense(units = 64, activation = \"relu\")(second_dense)\n",
    "y2_output = Dense(units = 1, name = \"y2_output\")(third_dense)\n",
    "model = Model(inputs = input_layer, outputs = [y1_output, y2_output])"
   ]
  },
  {
   "cell_type": "markdown",
   "id": "00c3a454",
   "metadata": {},
   "source": [
    "### Defining Neural Network Training Type"
   ]
  },
  {
   "cell_type": "code",
   "execution_count": 177,
   "id": "440319f1",
   "metadata": {},
   "outputs": [],
   "source": [
    "optimizer = tf.keras.optimizers.SGD(learning_rate = 0.001)\n",
    "model.compile(optimizer = optimizer,\n",
    "              loss = {\"y1_output\": \"mse\", \"y2_output\": \"mse\"},\n",
    "              metrics={\"y1_output\": tf.keras.metrics.RootMeanSquaredError(),\n",
    "                       \"y2_output\": tf.keras.metrics.RootMeanSquaredError()})"
   ]
  },
  {
   "cell_type": "markdown",
   "id": "228da238",
   "metadata": {},
   "source": [
    "Chose SGD over Adam optimizer since it is better at generelization performance and converges quicker which is important for this smaller dataset."
   ]
  },
  {
   "cell_type": "markdown",
   "id": "07bfcfc9",
   "metadata": {},
   "source": [
    "### Model Training"
   ]
  },
  {
   "cell_type": "code",
   "execution_count": 181,
   "id": "55e74179",
   "metadata": {},
   "outputs": [
    {
     "name": "stdout",
     "output_type": "stream",
     "text": [
      "Epoch 1/100\n",
      "62/62 [==============================] - 0s 3ms/step - loss: 0.1232 - y1_output_loss: 0.0707 - y2_output_loss: 0.0525 - y1_output_root_mean_squared_error: 0.2659 - y2_output_root_mean_squared_error: 0.2292 - val_loss: 0.5469 - val_y1_output_loss: 0.2140 - val_y2_output_loss: 0.3329 - val_y1_output_root_mean_squared_error: 0.4626 - val_y2_output_root_mean_squared_error: 0.5770\n",
      "Epoch 2/100\n",
      "62/62 [==============================] - 0s 3ms/step - loss: 0.1033 - y1_output_loss: 0.0634 - y2_output_loss: 0.0399 - y1_output_root_mean_squared_error: 0.2518 - y2_output_root_mean_squared_error: 0.1997 - val_loss: 0.5221 - val_y1_output_loss: 0.1937 - val_y2_output_loss: 0.3284 - val_y1_output_root_mean_squared_error: 0.4401 - val_y2_output_root_mean_squared_error: 0.5730\n",
      "Epoch 3/100\n",
      "62/62 [==============================] - 0s 3ms/step - loss: 0.1034 - y1_output_loss: 0.0643 - y2_output_loss: 0.0391 - y1_output_root_mean_squared_error: 0.2536 - y2_output_root_mean_squared_error: 0.1979 - val_loss: 0.5357 - val_y1_output_loss: 0.1980 - val_y2_output_loss: 0.3377 - val_y1_output_root_mean_squared_error: 0.4449 - val_y2_output_root_mean_squared_error: 0.5811\n",
      "Epoch 4/100\n",
      "62/62 [==============================] - 0s 4ms/step - loss: 0.1136 - y1_output_loss: 0.0651 - y2_output_loss: 0.0484 - y1_output_root_mean_squared_error: 0.2552 - y2_output_root_mean_squared_error: 0.2201 - val_loss: 0.4883 - val_y1_output_loss: 0.1925 - val_y2_output_loss: 0.2958 - val_y1_output_root_mean_squared_error: 0.4387 - val_y2_output_root_mean_squared_error: 0.5439\n",
      "Epoch 5/100\n",
      "62/62 [==============================] - 0s 3ms/step - loss: 0.1004 - y1_output_loss: 0.0572 - y2_output_loss: 0.0432 - y1_output_root_mean_squared_error: 0.2391 - y2_output_root_mean_squared_error: 0.2078 - val_loss: 0.5396 - val_y1_output_loss: 0.1958 - val_y2_output_loss: 0.3438 - val_y1_output_root_mean_squared_error: 0.4424 - val_y2_output_root_mean_squared_error: 0.5864\n",
      "Epoch 6/100\n",
      "62/62 [==============================] - 0s 3ms/step - loss: 0.1013 - y1_output_loss: 0.0575 - y2_output_loss: 0.0438 - y1_output_root_mean_squared_error: 0.2397 - y2_output_root_mean_squared_error: 0.2093 - val_loss: 0.5128 - val_y1_output_loss: 0.1851 - val_y2_output_loss: 0.3277 - val_y1_output_root_mean_squared_error: 0.4302 - val_y2_output_root_mean_squared_error: 0.5725\n",
      "Epoch 7/100\n",
      "62/62 [==============================] - 0s 3ms/step - loss: 0.1010 - y1_output_loss: 0.0602 - y2_output_loss: 0.0408 - y1_output_root_mean_squared_error: 0.2453 - y2_output_root_mean_squared_error: 0.2019 - val_loss: 0.4978 - val_y1_output_loss: 0.1972 - val_y2_output_loss: 0.3006 - val_y1_output_root_mean_squared_error: 0.4441 - val_y2_output_root_mean_squared_error: 0.5483\n",
      "Epoch 8/100\n",
      "62/62 [==============================] - 0s 2ms/step - loss: 0.1057 - y1_output_loss: 0.0646 - y2_output_loss: 0.0411 - y1_output_root_mean_squared_error: 0.2542 - y2_output_root_mean_squared_error: 0.2027 - val_loss: 0.5885 - val_y1_output_loss: 0.2261 - val_y2_output_loss: 0.3623 - val_y1_output_root_mean_squared_error: 0.4755 - val_y2_output_root_mean_squared_error: 0.6020\n",
      "Epoch 9/100\n",
      "62/62 [==============================] - 0s 2ms/step - loss: 0.1068 - y1_output_loss: 0.0643 - y2_output_loss: 0.0425 - y1_output_root_mean_squared_error: 0.2535 - y2_output_root_mean_squared_error: 0.2062 - val_loss: 0.5117 - val_y1_output_loss: 0.1848 - val_y2_output_loss: 0.3269 - val_y1_output_root_mean_squared_error: 0.4299 - val_y2_output_root_mean_squared_error: 0.5718\n",
      "Epoch 10/100\n",
      "62/62 [==============================] - 0s 2ms/step - loss: 0.1106 - y1_output_loss: 0.0641 - y2_output_loss: 0.0465 - y1_output_root_mean_squared_error: 0.2532 - y2_output_root_mean_squared_error: 0.2156 - val_loss: 0.5601 - val_y1_output_loss: 0.2165 - val_y2_output_loss: 0.3436 - val_y1_output_root_mean_squared_error: 0.4653 - val_y2_output_root_mean_squared_error: 0.5862\n",
      "Epoch 11/100\n",
      "62/62 [==============================] - 0s 2ms/step - loss: 0.1042 - y1_output_loss: 0.0639 - y2_output_loss: 0.0403 - y1_output_root_mean_squared_error: 0.2528 - y2_output_root_mean_squared_error: 0.2008 - val_loss: 0.4945 - val_y1_output_loss: 0.1859 - val_y2_output_loss: 0.3086 - val_y1_output_root_mean_squared_error: 0.4312 - val_y2_output_root_mean_squared_error: 0.5556\n",
      "Epoch 12/100\n",
      "62/62 [==============================] - 0s 2ms/step - loss: 0.0981 - y1_output_loss: 0.0604 - y2_output_loss: 0.0376 - y1_output_root_mean_squared_error: 0.2458 - y2_output_root_mean_squared_error: 0.1940 - val_loss: 0.4995 - val_y1_output_loss: 0.1889 - val_y2_output_loss: 0.3106 - val_y1_output_root_mean_squared_error: 0.4346 - val_y2_output_root_mean_squared_error: 0.5573\n",
      "Epoch 13/100\n",
      "62/62 [==============================] - 0s 3ms/step - loss: 0.1147 - y1_output_loss: 0.0702 - y2_output_loss: 0.0445 - y1_output_root_mean_squared_error: 0.2650 - y2_output_root_mean_squared_error: 0.2108 - val_loss: 0.5419 - val_y1_output_loss: 0.2329 - val_y2_output_loss: 0.3089 - val_y1_output_root_mean_squared_error: 0.4826 - val_y2_output_root_mean_squared_error: 0.5558\n",
      "Epoch 14/100\n",
      "62/62 [==============================] - 0s 3ms/step - loss: 0.1080 - y1_output_loss: 0.0625 - y2_output_loss: 0.0455 - y1_output_root_mean_squared_error: 0.2501 - y2_output_root_mean_squared_error: 0.2132 - val_loss: 0.5546 - val_y1_output_loss: 0.2047 - val_y2_output_loss: 0.3499 - val_y1_output_root_mean_squared_error: 0.4524 - val_y2_output_root_mean_squared_error: 0.5915\n",
      "Epoch 15/100\n",
      "62/62 [==============================] - 0s 2ms/step - loss: 0.1110 - y1_output_loss: 0.0663 - y2_output_loss: 0.0447 - y1_output_root_mean_squared_error: 0.2576 - y2_output_root_mean_squared_error: 0.2114 - val_loss: 0.6299 - val_y1_output_loss: 0.2304 - val_y2_output_loss: 0.3995 - val_y1_output_root_mean_squared_error: 0.4800 - val_y2_output_root_mean_squared_error: 0.6320\n",
      "Epoch 16/100\n",
      "62/62 [==============================] - 0s 2ms/step - loss: 0.1148 - y1_output_loss: 0.0640 - y2_output_loss: 0.0508 - y1_output_root_mean_squared_error: 0.2529 - y2_output_root_mean_squared_error: 0.2254 - val_loss: 0.5084 - val_y1_output_loss: 0.2005 - val_y2_output_loss: 0.3079 - val_y1_output_root_mean_squared_error: 0.4478 - val_y2_output_root_mean_squared_error: 0.5549\n",
      "Epoch 17/100\n",
      "62/62 [==============================] - 0s 3ms/step - loss: 0.1052 - y1_output_loss: 0.0588 - y2_output_loss: 0.0464 - y1_output_root_mean_squared_error: 0.2424 - y2_output_root_mean_squared_error: 0.2155 - val_loss: 0.6421 - val_y1_output_loss: 0.1902 - val_y2_output_loss: 0.4519 - val_y1_output_root_mean_squared_error: 0.4362 - val_y2_output_root_mean_squared_error: 0.6722\n",
      "Epoch 18/100\n",
      "62/62 [==============================] - 0s 3ms/step - loss: 0.1107 - y1_output_loss: 0.0664 - y2_output_loss: 0.0443 - y1_output_root_mean_squared_error: 0.2577 - y2_output_root_mean_squared_error: 0.2104 - val_loss: 0.5142 - val_y1_output_loss: 0.1982 - val_y2_output_loss: 0.3160 - val_y1_output_root_mean_squared_error: 0.4452 - val_y2_output_root_mean_squared_error: 0.5621\n",
      "Epoch 19/100\n",
      "62/62 [==============================] - 0s 4ms/step - loss: 0.1013 - y1_output_loss: 0.0575 - y2_output_loss: 0.0438 - y1_output_root_mean_squared_error: 0.2398 - y2_output_root_mean_squared_error: 0.2092 - val_loss: 0.5093 - val_y1_output_loss: 0.1932 - val_y2_output_loss: 0.3161 - val_y1_output_root_mean_squared_error: 0.4395 - val_y2_output_root_mean_squared_error: 0.5622\n",
      "Epoch 20/100\n",
      "62/62 [==============================] - 0s 3ms/step - loss: 0.1036 - y1_output_loss: 0.0614 - y2_output_loss: 0.0423 - y1_output_root_mean_squared_error: 0.2477 - y2_output_root_mean_squared_error: 0.2056 - val_loss: 0.5071 - val_y1_output_loss: 0.1942 - val_y2_output_loss: 0.3129 - val_y1_output_root_mean_squared_error: 0.4406 - val_y2_output_root_mean_squared_error: 0.5594\n",
      "Epoch 21/100\n",
      "62/62 [==============================] - 0s 3ms/step - loss: 0.1041 - y1_output_loss: 0.0610 - y2_output_loss: 0.0431 - y1_output_root_mean_squared_error: 0.2470 - y2_output_root_mean_squared_error: 0.2077 - val_loss: 0.9115 - val_y1_output_loss: 0.3102 - val_y2_output_loss: 0.6013 - val_y1_output_root_mean_squared_error: 0.5569 - val_y2_output_root_mean_squared_error: 0.7755\n"
     ]
    },
    {
     "name": "stdout",
     "output_type": "stream",
     "text": [
      "Epoch 22/100\n",
      "62/62 [==============================] - 0s 4ms/step - loss: 0.1143 - y1_output_loss: 0.0704 - y2_output_loss: 0.0439 - y1_output_root_mean_squared_error: 0.2653 - y2_output_root_mean_squared_error: 0.2095 - val_loss: 0.5329 - val_y1_output_loss: 0.1951 - val_y2_output_loss: 0.3377 - val_y1_output_root_mean_squared_error: 0.4417 - val_y2_output_root_mean_squared_error: 0.5812\n",
      "Epoch 23/100\n",
      "62/62 [==============================] - 0s 7ms/step - loss: 0.1058 - y1_output_loss: 0.0612 - y2_output_loss: 0.0446 - y1_output_root_mean_squared_error: 0.2475 - y2_output_root_mean_squared_error: 0.2111 - val_loss: 0.5766 - val_y1_output_loss: 0.2142 - val_y2_output_loss: 0.3624 - val_y1_output_root_mean_squared_error: 0.4628 - val_y2_output_root_mean_squared_error: 0.6020\n",
      "Epoch 24/100\n",
      "62/62 [==============================] - 0s 4ms/step - loss: 0.1110 - y1_output_loss: 0.0664 - y2_output_loss: 0.0446 - y1_output_root_mean_squared_error: 0.2577 - y2_output_root_mean_squared_error: 0.2113 - val_loss: 0.9253 - val_y1_output_loss: 0.3553 - val_y2_output_loss: 0.5700 - val_y1_output_root_mean_squared_error: 0.5961 - val_y2_output_root_mean_squared_error: 0.7550\n",
      "Epoch 25/100\n",
      "62/62 [==============================] - 0s 6ms/step - loss: 0.1075 - y1_output_loss: 0.0649 - y2_output_loss: 0.0426 - y1_output_root_mean_squared_error: 0.2548 - y2_output_root_mean_squared_error: 0.2064 - val_loss: 0.5250 - val_y1_output_loss: 0.2085 - val_y2_output_loss: 0.3164 - val_y1_output_root_mean_squared_error: 0.4566 - val_y2_output_root_mean_squared_error: 0.5625\n",
      "Epoch 26/100\n",
      "62/62 [==============================] - 0s 5ms/step - loss: 0.1046 - y1_output_loss: 0.0623 - y2_output_loss: 0.0423 - y1_output_root_mean_squared_error: 0.2497 - y2_output_root_mean_squared_error: 0.2056 - val_loss: 0.5160 - val_y1_output_loss: 0.2013 - val_y2_output_loss: 0.3147 - val_y1_output_root_mean_squared_error: 0.4487 - val_y2_output_root_mean_squared_error: 0.5610\n",
      "Epoch 27/100\n",
      "62/62 [==============================] - 0s 4ms/step - loss: 0.1024 - y1_output_loss: 0.0629 - y2_output_loss: 0.0395 - y1_output_root_mean_squared_error: 0.2508 - y2_output_root_mean_squared_error: 0.1988 - val_loss: 1.1524 - val_y1_output_loss: 0.7044 - val_y2_output_loss: 0.4481 - val_y1_output_root_mean_squared_error: 0.8393 - val_y2_output_root_mean_squared_error: 0.6694\n",
      "Epoch 28/100\n",
      "62/62 [==============================] - 0s 3ms/step - loss: 0.1153 - y1_output_loss: 0.0708 - y2_output_loss: 0.0445 - y1_output_root_mean_squared_error: 0.2661 - y2_output_root_mean_squared_error: 0.2109 - val_loss: 0.5074 - val_y1_output_loss: 0.1839 - val_y2_output_loss: 0.3235 - val_y1_output_root_mean_squared_error: 0.4289 - val_y2_output_root_mean_squared_error: 0.5688\n",
      "Epoch 29/100\n",
      "62/62 [==============================] - 0s 3ms/step - loss: 0.0978 - y1_output_loss: 0.0567 - y2_output_loss: 0.0411 - y1_output_root_mean_squared_error: 0.2382 - y2_output_root_mean_squared_error: 0.2027 - val_loss: 0.5614 - val_y1_output_loss: 0.2433 - val_y2_output_loss: 0.3181 - val_y1_output_root_mean_squared_error: 0.4932 - val_y2_output_root_mean_squared_error: 0.5640\n",
      "Epoch 30/100\n",
      "62/62 [==============================] - 0s 3ms/step - loss: 0.1030 - y1_output_loss: 0.0577 - y2_output_loss: 0.0454 - y1_output_root_mean_squared_error: 0.2401 - y2_output_root_mean_squared_error: 0.2130 - val_loss: 0.5151 - val_y1_output_loss: 0.1886 - val_y2_output_loss: 0.3265 - val_y1_output_root_mean_squared_error: 0.4343 - val_y2_output_root_mean_squared_error: 0.5714\n",
      "Epoch 31/100\n",
      "62/62 [==============================] - 0s 3ms/step - loss: 0.1116 - y1_output_loss: 0.0675 - y2_output_loss: 0.0440 - y1_output_root_mean_squared_error: 0.2598 - y2_output_root_mean_squared_error: 0.2099 - val_loss: 0.5855 - val_y1_output_loss: 0.1833 - val_y2_output_loss: 0.4022 - val_y1_output_root_mean_squared_error: 0.4281 - val_y2_output_root_mean_squared_error: 0.6342\n",
      "Epoch 32/100\n",
      "62/62 [==============================] - 0s 3ms/step - loss: 0.1280 - y1_output_loss: 0.0700 - y2_output_loss: 0.0580 - y1_output_root_mean_squared_error: 0.2645 - y2_output_root_mean_squared_error: 0.2408 - val_loss: 0.5880 - val_y1_output_loss: 0.2576 - val_y2_output_loss: 0.3303 - val_y1_output_root_mean_squared_error: 0.5076 - val_y2_output_root_mean_squared_error: 0.5747\n",
      "Epoch 33/100\n",
      "62/62 [==============================] - 0s 4ms/step - loss: 0.1236 - y1_output_loss: 0.0705 - y2_output_loss: 0.0531 - y1_output_root_mean_squared_error: 0.2656 - y2_output_root_mean_squared_error: 0.2304 - val_loss: 0.5943 - val_y1_output_loss: 0.1925 - val_y2_output_loss: 0.4019 - val_y1_output_root_mean_squared_error: 0.4387 - val_y2_output_root_mean_squared_error: 0.6339\n",
      "Epoch 34/100\n",
      "62/62 [==============================] - 0s 4ms/step - loss: 0.1164 - y1_output_loss: 0.0666 - y2_output_loss: 0.0498 - y1_output_root_mean_squared_error: 0.2581 - y2_output_root_mean_squared_error: 0.2231 - val_loss: 0.7668 - val_y1_output_loss: 0.1908 - val_y2_output_loss: 0.5761 - val_y1_output_root_mean_squared_error: 0.4368 - val_y2_output_root_mean_squared_error: 0.7590\n",
      "Epoch 35/100\n",
      "62/62 [==============================] - 0s 4ms/step - loss: 0.1066 - y1_output_loss: 0.0615 - y2_output_loss: 0.0451 - y1_output_root_mean_squared_error: 0.2481 - y2_output_root_mean_squared_error: 0.2123 - val_loss: 0.5501 - val_y1_output_loss: 0.2187 - val_y2_output_loss: 0.3314 - val_y1_output_root_mean_squared_error: 0.4676 - val_y2_output_root_mean_squared_error: 0.5757\n",
      "Epoch 36/100\n",
      "62/62 [==============================] - 0s 3ms/step - loss: 0.1181 - y1_output_loss: 0.0677 - y2_output_loss: 0.0504 - y1_output_root_mean_squared_error: 0.2602 - y2_output_root_mean_squared_error: 0.2245 - val_loss: 0.5144 - val_y1_output_loss: 0.1906 - val_y2_output_loss: 0.3238 - val_y1_output_root_mean_squared_error: 0.4366 - val_y2_output_root_mean_squared_error: 0.5690\n",
      "Epoch 37/100\n",
      "62/62 [==============================] - 0s 3ms/step - loss: 0.0984 - y1_output_loss: 0.0586 - y2_output_loss: 0.0398 - y1_output_root_mean_squared_error: 0.2421 - y2_output_root_mean_squared_error: 0.1995 - val_loss: 0.7760 - val_y1_output_loss: 0.3485 - val_y2_output_loss: 0.4274 - val_y1_output_root_mean_squared_error: 0.5904 - val_y2_output_root_mean_squared_error: 0.6538\n",
      "Epoch 38/100\n",
      "62/62 [==============================] - 0s 3ms/step - loss: 0.1167 - y1_output_loss: 0.0698 - y2_output_loss: 0.0470 - y1_output_root_mean_squared_error: 0.2641 - y2_output_root_mean_squared_error: 0.2167 - val_loss: 0.6530 - val_y1_output_loss: 0.2206 - val_y2_output_loss: 0.4324 - val_y1_output_root_mean_squared_error: 0.4696 - val_y2_output_root_mean_squared_error: 0.6576\n",
      "Epoch 39/100\n",
      "62/62 [==============================] - 0s 3ms/step - loss: 0.1046 - y1_output_loss: 0.0591 - y2_output_loss: 0.0455 - y1_output_root_mean_squared_error: 0.2431 - y2_output_root_mean_squared_error: 0.2132 - val_loss: 0.5163 - val_y1_output_loss: 0.1969 - val_y2_output_loss: 0.3194 - val_y1_output_root_mean_squared_error: 0.4437 - val_y2_output_root_mean_squared_error: 0.5651\n",
      "Epoch 40/100\n",
      "62/62 [==============================] - 0s 2ms/step - loss: 0.0949 - y1_output_loss: 0.0581 - y2_output_loss: 0.0368 - y1_output_root_mean_squared_error: 0.2410 - y2_output_root_mean_squared_error: 0.1917 - val_loss: 0.5306 - val_y1_output_loss: 0.2035 - val_y2_output_loss: 0.3272 - val_y1_output_root_mean_squared_error: 0.4511 - val_y2_output_root_mean_squared_error: 0.5720\n",
      "Epoch 41/100\n",
      "62/62 [==============================] - 0s 2ms/step - loss: 0.1038 - y1_output_loss: 0.0626 - y2_output_loss: 0.0412 - y1_output_root_mean_squared_error: 0.2502 - y2_output_root_mean_squared_error: 0.2030 - val_loss: 0.5524 - val_y1_output_loss: 0.2195 - val_y2_output_loss: 0.3329 - val_y1_output_root_mean_squared_error: 0.4685 - val_y2_output_root_mean_squared_error: 0.5770\n",
      "Epoch 42/100\n",
      "62/62 [==============================] - 0s 2ms/step - loss: 0.1095 - y1_output_loss: 0.0676 - y2_output_loss: 0.0420 - y1_output_root_mean_squared_error: 0.2599 - y2_output_root_mean_squared_error: 0.2049 - val_loss: 0.5650 - val_y1_output_loss: 0.2338 - val_y2_output_loss: 0.3311 - val_y1_output_root_mean_squared_error: 0.4836 - val_y2_output_root_mean_squared_error: 0.5754\n"
     ]
    },
    {
     "name": "stdout",
     "output_type": "stream",
     "text": [
      "Epoch 43/100\n",
      "62/62 [==============================] - 0s 2ms/step - loss: 0.0994 - y1_output_loss: 0.0589 - y2_output_loss: 0.0405 - y1_output_root_mean_squared_error: 0.2428 - y2_output_root_mean_squared_error: 0.2012 - val_loss: 0.5267 - val_y1_output_loss: 0.1971 - val_y2_output_loss: 0.3296 - val_y1_output_root_mean_squared_error: 0.4439 - val_y2_output_root_mean_squared_error: 0.5741\n",
      "Epoch 44/100\n",
      "62/62 [==============================] - 0s 2ms/step - loss: 0.1057 - y1_output_loss: 0.0615 - y2_output_loss: 0.0441 - y1_output_root_mean_squared_error: 0.2481 - y2_output_root_mean_squared_error: 0.2100 - val_loss: 0.5645 - val_y1_output_loss: 0.1913 - val_y2_output_loss: 0.3732 - val_y1_output_root_mean_squared_error: 0.4374 - val_y2_output_root_mean_squared_error: 0.6109\n",
      "Epoch 45/100\n",
      "62/62 [==============================] - 0s 2ms/step - loss: 0.0950 - y1_output_loss: 0.0580 - y2_output_loss: 0.0370 - y1_output_root_mean_squared_error: 0.2408 - y2_output_root_mean_squared_error: 0.1924 - val_loss: 0.5135 - val_y1_output_loss: 0.1994 - val_y2_output_loss: 0.3141 - val_y1_output_root_mean_squared_error: 0.4465 - val_y2_output_root_mean_squared_error: 0.5605\n",
      "Epoch 46/100\n",
      "62/62 [==============================] - 0s 2ms/step - loss: 0.1144 - y1_output_loss: 0.0671 - y2_output_loss: 0.0473 - y1_output_root_mean_squared_error: 0.2590 - y2_output_root_mean_squared_error: 0.2176 - val_loss: 0.6522 - val_y1_output_loss: 0.1887 - val_y2_output_loss: 0.4635 - val_y1_output_root_mean_squared_error: 0.4344 - val_y2_output_root_mean_squared_error: 0.6808\n",
      "Epoch 47/100\n",
      "62/62 [==============================] - 0s 2ms/step - loss: 0.1072 - y1_output_loss: 0.0608 - y2_output_loss: 0.0464 - y1_output_root_mean_squared_error: 0.2465 - y2_output_root_mean_squared_error: 0.2155 - val_loss: 0.5216 - val_y1_output_loss: 0.1962 - val_y2_output_loss: 0.3254 - val_y1_output_root_mean_squared_error: 0.4430 - val_y2_output_root_mean_squared_error: 0.5704\n",
      "Epoch 48/100\n",
      "62/62 [==============================] - 0s 2ms/step - loss: 0.0990 - y1_output_loss: 0.0568 - y2_output_loss: 0.0422 - y1_output_root_mean_squared_error: 0.2384 - y2_output_root_mean_squared_error: 0.2054 - val_loss: 0.5406 - val_y1_output_loss: 0.2069 - val_y2_output_loss: 0.3337 - val_y1_output_root_mean_squared_error: 0.4548 - val_y2_output_root_mean_squared_error: 0.5777\n",
      "Epoch 49/100\n",
      "62/62 [==============================] - 0s 3ms/step - loss: 0.0998 - y1_output_loss: 0.0557 - y2_output_loss: 0.0441 - y1_output_root_mean_squared_error: 0.2361 - y2_output_root_mean_squared_error: 0.2100 - val_loss: 0.5024 - val_y1_output_loss: 0.1794 - val_y2_output_loss: 0.3230 - val_y1_output_root_mean_squared_error: 0.4236 - val_y2_output_root_mean_squared_error: 0.5683\n",
      "Epoch 50/100\n",
      "62/62 [==============================] - 0s 3ms/step - loss: 0.1089 - y1_output_loss: 0.0637 - y2_output_loss: 0.0452 - y1_output_root_mean_squared_error: 0.2523 - y2_output_root_mean_squared_error: 0.2126 - val_loss: 0.6032 - val_y1_output_loss: 0.2351 - val_y2_output_loss: 0.3682 - val_y1_output_root_mean_squared_error: 0.4848 - val_y2_output_root_mean_squared_error: 0.6068\n",
      "Epoch 51/100\n",
      "62/62 [==============================] - 0s 4ms/step - loss: 0.1160 - y1_output_loss: 0.0711 - y2_output_loss: 0.0449 - y1_output_root_mean_squared_error: 0.2666 - y2_output_root_mean_squared_error: 0.2120 - val_loss: 0.5486 - val_y1_output_loss: 0.2423 - val_y2_output_loss: 0.3063 - val_y1_output_root_mean_squared_error: 0.4922 - val_y2_output_root_mean_squared_error: 0.5534\n",
      "Epoch 52/100\n",
      "62/62 [==============================] - 0s 3ms/step - loss: 0.1044 - y1_output_loss: 0.0625 - y2_output_loss: 0.0419 - y1_output_root_mean_squared_error: 0.2500 - y2_output_root_mean_squared_error: 0.2047 - val_loss: 0.5112 - val_y1_output_loss: 0.1918 - val_y2_output_loss: 0.3194 - val_y1_output_root_mean_squared_error: 0.4379 - val_y2_output_root_mean_squared_error: 0.5651\n",
      "Epoch 53/100\n",
      "62/62 [==============================] - 0s 3ms/step - loss: 0.0993 - y1_output_loss: 0.0549 - y2_output_loss: 0.0444 - y1_output_root_mean_squared_error: 0.2344 - y2_output_root_mean_squared_error: 0.2107 - val_loss: 0.5263 - val_y1_output_loss: 0.2016 - val_y2_output_loss: 0.3247 - val_y1_output_root_mean_squared_error: 0.4490 - val_y2_output_root_mean_squared_error: 0.5698\n",
      "Epoch 54/100\n",
      "62/62 [==============================] - 0s 3ms/step - loss: 0.1043 - y1_output_loss: 0.0601 - y2_output_loss: 0.0443 - y1_output_root_mean_squared_error: 0.2451 - y2_output_root_mean_squared_error: 0.2104 - val_loss: 0.5156 - val_y1_output_loss: 0.1975 - val_y2_output_loss: 0.3181 - val_y1_output_root_mean_squared_error: 0.4444 - val_y2_output_root_mean_squared_error: 0.5640\n",
      "Epoch 55/100\n",
      "62/62 [==============================] - 0s 6ms/step - loss: 0.1056 - y1_output_loss: 0.0597 - y2_output_loss: 0.0459 - y1_output_root_mean_squared_error: 0.2443 - y2_output_root_mean_squared_error: 0.2143 - val_loss: 0.6117 - val_y1_output_loss: 0.1926 - val_y2_output_loss: 0.4191 - val_y1_output_root_mean_squared_error: 0.4388 - val_y2_output_root_mean_squared_error: 0.6474\n",
      "Epoch 56/100\n",
      "62/62 [==============================] - 0s 4ms/step - loss: 0.1151 - y1_output_loss: 0.0655 - y2_output_loss: 0.0496 - y1_output_root_mean_squared_error: 0.2558 - y2_output_root_mean_squared_error: 0.2228 - val_loss: 0.5543 - val_y1_output_loss: 0.2059 - val_y2_output_loss: 0.3485 - val_y1_output_root_mean_squared_error: 0.4537 - val_y2_output_root_mean_squared_error: 0.5903\n",
      "Epoch 57/100\n",
      "62/62 [==============================] - 0s 4ms/step - loss: 0.1054 - y1_output_loss: 0.0626 - y2_output_loss: 0.0428 - y1_output_root_mean_squared_error: 0.2502 - y2_output_root_mean_squared_error: 0.2069 - val_loss: 0.4871 - val_y1_output_loss: 0.1878 - val_y2_output_loss: 0.2993 - val_y1_output_root_mean_squared_error: 0.4334 - val_y2_output_root_mean_squared_error: 0.5471\n",
      "Epoch 58/100\n",
      "62/62 [==============================] - 0s 3ms/step - loss: 0.1211 - y1_output_loss: 0.0778 - y2_output_loss: 0.0433 - y1_output_root_mean_squared_error: 0.2789 - y2_output_root_mean_squared_error: 0.2080 - val_loss: 0.5473 - val_y1_output_loss: 0.1903 - val_y2_output_loss: 0.3570 - val_y1_output_root_mean_squared_error: 0.4362 - val_y2_output_root_mean_squared_error: 0.5975\n",
      "Epoch 59/100\n",
      "62/62 [==============================] - 0s 3ms/step - loss: 0.1027 - y1_output_loss: 0.0612 - y2_output_loss: 0.0415 - y1_output_root_mean_squared_error: 0.2475 - y2_output_root_mean_squared_error: 0.2037 - val_loss: 0.5034 - val_y1_output_loss: 0.1957 - val_y2_output_loss: 0.3077 - val_y1_output_root_mean_squared_error: 0.4424 - val_y2_output_root_mean_squared_error: 0.5547\n",
      "Epoch 60/100\n",
      "62/62 [==============================] - 0s 2ms/step - loss: 0.1023 - y1_output_loss: 0.0612 - y2_output_loss: 0.0411 - y1_output_root_mean_squared_error: 0.2473 - y2_output_root_mean_squared_error: 0.2027 - val_loss: 0.6121 - val_y1_output_loss: 0.2082 - val_y2_output_loss: 0.4039 - val_y1_output_root_mean_squared_error: 0.4563 - val_y2_output_root_mean_squared_error: 0.6355\n",
      "Epoch 61/100\n",
      "62/62 [==============================] - 0s 2ms/step - loss: 0.0977 - y1_output_loss: 0.0589 - y2_output_loss: 0.0388 - y1_output_root_mean_squared_error: 0.2428 - y2_output_root_mean_squared_error: 0.1970 - val_loss: 0.5132 - val_y1_output_loss: 0.2000 - val_y2_output_loss: 0.3132 - val_y1_output_root_mean_squared_error: 0.4473 - val_y2_output_root_mean_squared_error: 0.5596\n",
      "Epoch 62/100\n",
      "62/62 [==============================] - 0s 2ms/step - loss: 0.1013 - y1_output_loss: 0.0621 - y2_output_loss: 0.0392 - y1_output_root_mean_squared_error: 0.2491 - y2_output_root_mean_squared_error: 0.1980 - val_loss: 0.5472 - val_y1_output_loss: 0.2264 - val_y2_output_loss: 0.3208 - val_y1_output_root_mean_squared_error: 0.4758 - val_y2_output_root_mean_squared_error: 0.5664\n",
      "Epoch 63/100\n",
      "62/62 [==============================] - 0s 2ms/step - loss: 0.1008 - y1_output_loss: 0.0625 - y2_output_loss: 0.0383 - y1_output_root_mean_squared_error: 0.2501 - y2_output_root_mean_squared_error: 0.1957 - val_loss: 0.6788 - val_y1_output_loss: 0.2972 - val_y2_output_loss: 0.3816 - val_y1_output_root_mean_squared_error: 0.5451 - val_y2_output_root_mean_squared_error: 0.6177\n"
     ]
    },
    {
     "name": "stdout",
     "output_type": "stream",
     "text": [
      "Epoch 64/100\n",
      "62/62 [==============================] - 0s 2ms/step - loss: 0.1048 - y1_output_loss: 0.0661 - y2_output_loss: 0.0387 - y1_output_root_mean_squared_error: 0.2571 - y2_output_root_mean_squared_error: 0.1968 - val_loss: 0.6495 - val_y1_output_loss: 0.2777 - val_y2_output_loss: 0.3718 - val_y1_output_root_mean_squared_error: 0.5270 - val_y2_output_root_mean_squared_error: 0.6098\n",
      "Epoch 65/100\n",
      "62/62 [==============================] - 0s 2ms/step - loss: 0.1075 - y1_output_loss: 0.0588 - y2_output_loss: 0.0486 - y1_output_root_mean_squared_error: 0.2426 - y2_output_root_mean_squared_error: 0.2205 - val_loss: 0.4929 - val_y1_output_loss: 0.1910 - val_y2_output_loss: 0.3019 - val_y1_output_root_mean_squared_error: 0.4370 - val_y2_output_root_mean_squared_error: 0.5494\n",
      "Epoch 66/100\n",
      "62/62 [==============================] - 0s 2ms/step - loss: 0.1119 - y1_output_loss: 0.0673 - y2_output_loss: 0.0446 - y1_output_root_mean_squared_error: 0.2594 - y2_output_root_mean_squared_error: 0.2111 - val_loss: 0.5254 - val_y1_output_loss: 0.2200 - val_y2_output_loss: 0.3054 - val_y1_output_root_mean_squared_error: 0.4690 - val_y2_output_root_mean_squared_error: 0.5527\n",
      "Epoch 67/100\n",
      "62/62 [==============================] - 0s 2ms/step - loss: 0.1055 - y1_output_loss: 0.0634 - y2_output_loss: 0.0421 - y1_output_root_mean_squared_error: 0.2518 - y2_output_root_mean_squared_error: 0.2052 - val_loss: 0.5266 - val_y1_output_loss: 0.1852 - val_y2_output_loss: 0.3415 - val_y1_output_root_mean_squared_error: 0.4303 - val_y2_output_root_mean_squared_error: 0.5844\n",
      "Epoch 68/100\n",
      "62/62 [==============================] - 0s 2ms/step - loss: 0.1045 - y1_output_loss: 0.0618 - y2_output_loss: 0.0427 - y1_output_root_mean_squared_error: 0.2486 - y2_output_root_mean_squared_error: 0.2065 - val_loss: 0.5192 - val_y1_output_loss: 0.1850 - val_y2_output_loss: 0.3342 - val_y1_output_root_mean_squared_error: 0.4301 - val_y2_output_root_mean_squared_error: 0.5781\n",
      "Epoch 69/100\n",
      "62/62 [==============================] - 0s 2ms/step - loss: 0.1270 - y1_output_loss: 0.0796 - y2_output_loss: 0.0474 - y1_output_root_mean_squared_error: 0.2822 - y2_output_root_mean_squared_error: 0.2177 - val_loss: 0.5944 - val_y1_output_loss: 0.1749 - val_y2_output_loss: 0.4195 - val_y1_output_root_mean_squared_error: 0.4182 - val_y2_output_root_mean_squared_error: 0.6477\n",
      "Epoch 70/100\n",
      "62/62 [==============================] - 0s 2ms/step - loss: 0.1171 - y1_output_loss: 0.0659 - y2_output_loss: 0.0512 - y1_output_root_mean_squared_error: 0.2568 - y2_output_root_mean_squared_error: 0.2262 - val_loss: 0.5412 - val_y1_output_loss: 0.1872 - val_y2_output_loss: 0.3540 - val_y1_output_root_mean_squared_error: 0.4326 - val_y2_output_root_mean_squared_error: 0.5950\n",
      "Epoch 71/100\n",
      "62/62 [==============================] - 0s 2ms/step - loss: 0.0989 - y1_output_loss: 0.0585 - y2_output_loss: 0.0403 - y1_output_root_mean_squared_error: 0.2419 - y2_output_root_mean_squared_error: 0.2008 - val_loss: 0.6890 - val_y1_output_loss: 0.3641 - val_y2_output_loss: 0.3249 - val_y1_output_root_mean_squared_error: 0.6034 - val_y2_output_root_mean_squared_error: 0.5700\n",
      "Epoch 72/100\n",
      "62/62 [==============================] - 0s 2ms/step - loss: 0.1083 - y1_output_loss: 0.0646 - y2_output_loss: 0.0437 - y1_output_root_mean_squared_error: 0.2541 - y2_output_root_mean_squared_error: 0.2090 - val_loss: 0.5729 - val_y1_output_loss: 0.2007 - val_y2_output_loss: 0.3722 - val_y1_output_root_mean_squared_error: 0.4480 - val_y2_output_root_mean_squared_error: 0.6101\n",
      "Epoch 73/100\n",
      "62/62 [==============================] - 0s 2ms/step - loss: 0.0958 - y1_output_loss: 0.0589 - y2_output_loss: 0.0369 - y1_output_root_mean_squared_error: 0.2427 - y2_output_root_mean_squared_error: 0.1921 - val_loss: 0.5318 - val_y1_output_loss: 0.2022 - val_y2_output_loss: 0.3296 - val_y1_output_root_mean_squared_error: 0.4496 - val_y2_output_root_mean_squared_error: 0.5741\n",
      "Epoch 74/100\n",
      "62/62 [==============================] - 0s 2ms/step - loss: 0.1023 - y1_output_loss: 0.0616 - y2_output_loss: 0.0407 - y1_output_root_mean_squared_error: 0.2482 - y2_output_root_mean_squared_error: 0.2018 - val_loss: 0.5646 - val_y1_output_loss: 0.2463 - val_y2_output_loss: 0.3183 - val_y1_output_root_mean_squared_error: 0.4963 - val_y2_output_root_mean_squared_error: 0.5642\n",
      "Epoch 75/100\n",
      "62/62 [==============================] - 0s 2ms/step - loss: 0.1055 - y1_output_loss: 0.0638 - y2_output_loss: 0.0417 - y1_output_root_mean_squared_error: 0.2525 - y2_output_root_mean_squared_error: 0.2043 - val_loss: 0.5190 - val_y1_output_loss: 0.1952 - val_y2_output_loss: 0.3238 - val_y1_output_root_mean_squared_error: 0.4418 - val_y2_output_root_mean_squared_error: 0.5691\n",
      "Epoch 76/100\n",
      "62/62 [==============================] - 0s 2ms/step - loss: 0.1019 - y1_output_loss: 0.0597 - y2_output_loss: 0.0422 - y1_output_root_mean_squared_error: 0.2443 - y2_output_root_mean_squared_error: 0.2054 - val_loss: 0.6475 - val_y1_output_loss: 0.2231 - val_y2_output_loss: 0.4244 - val_y1_output_root_mean_squared_error: 0.4723 - val_y2_output_root_mean_squared_error: 0.6515\n",
      "Epoch 77/100\n",
      "62/62 [==============================] - 0s 2ms/step - loss: 0.1026 - y1_output_loss: 0.0580 - y2_output_loss: 0.0446 - y1_output_root_mean_squared_error: 0.2409 - y2_output_root_mean_squared_error: 0.2111 - val_loss: 0.6183 - val_y1_output_loss: 0.3028 - val_y2_output_loss: 0.3155 - val_y1_output_root_mean_squared_error: 0.5503 - val_y2_output_root_mean_squared_error: 0.5617\n",
      "Epoch 78/100\n",
      "62/62 [==============================] - 0s 2ms/step - loss: 0.1157 - y1_output_loss: 0.0694 - y2_output_loss: 0.0464 - y1_output_root_mean_squared_error: 0.2634 - y2_output_root_mean_squared_error: 0.2153 - val_loss: 0.5139 - val_y1_output_loss: 0.1902 - val_y2_output_loss: 0.3237 - val_y1_output_root_mean_squared_error: 0.4361 - val_y2_output_root_mean_squared_error: 0.5690\n",
      "Epoch 79/100\n",
      "62/62 [==============================] - 0s 2ms/step - loss: 0.1007 - y1_output_loss: 0.0616 - y2_output_loss: 0.0391 - y1_output_root_mean_squared_error: 0.2482 - y2_output_root_mean_squared_error: 0.1978 - val_loss: 0.5298 - val_y1_output_loss: 0.1979 - val_y2_output_loss: 0.3319 - val_y1_output_root_mean_squared_error: 0.4448 - val_y2_output_root_mean_squared_error: 0.5761\n",
      "Epoch 80/100\n",
      "62/62 [==============================] - 0s 2ms/step - loss: 0.1033 - y1_output_loss: 0.0617 - y2_output_loss: 0.0416 - y1_output_root_mean_squared_error: 0.2483 - y2_output_root_mean_squared_error: 0.2041 - val_loss: 0.6584 - val_y1_output_loss: 0.2628 - val_y2_output_loss: 0.3956 - val_y1_output_root_mean_squared_error: 0.5126 - val_y2_output_root_mean_squared_error: 0.6290\n",
      "Epoch 81/100\n",
      "62/62 [==============================] - 0s 3ms/step - loss: 0.1081 - y1_output_loss: 0.0647 - y2_output_loss: 0.0434 - y1_output_root_mean_squared_error: 0.2543 - y2_output_root_mean_squared_error: 0.2084 - val_loss: 0.5950 - val_y1_output_loss: 0.1895 - val_y2_output_loss: 0.4054 - val_y1_output_root_mean_squared_error: 0.4353 - val_y2_output_root_mean_squared_error: 0.6367\n",
      "Epoch 82/100\n",
      "62/62 [==============================] - 0s 3ms/step - loss: 0.1242 - y1_output_loss: 0.0806 - y2_output_loss: 0.0437 - y1_output_root_mean_squared_error: 0.2838 - y2_output_root_mean_squared_error: 0.2090 - val_loss: 0.5184 - val_y1_output_loss: 0.1848 - val_y2_output_loss: 0.3336 - val_y1_output_root_mean_squared_error: 0.4299 - val_y2_output_root_mean_squared_error: 0.5776\n",
      "Epoch 83/100\n",
      "62/62 [==============================] - 0s 4ms/step - loss: 0.1057 - y1_output_loss: 0.0603 - y2_output_loss: 0.0454 - y1_output_root_mean_squared_error: 0.2455 - y2_output_root_mean_squared_error: 0.2130 - val_loss: 0.5393 - val_y1_output_loss: 0.2152 - val_y2_output_loss: 0.3241 - val_y1_output_root_mean_squared_error: 0.4639 - val_y2_output_root_mean_squared_error: 0.5693\n",
      "Epoch 84/100\n",
      "62/62 [==============================] - 0s 3ms/step - loss: 0.0990 - y1_output_loss: 0.0604 - y2_output_loss: 0.0387 - y1_output_root_mean_squared_error: 0.2457 - y2_output_root_mean_squared_error: 0.1966 - val_loss: 0.4867 - val_y1_output_loss: 0.1858 - val_y2_output_loss: 0.3010 - val_y1_output_root_mean_squared_error: 0.4310 - val_y2_output_root_mean_squared_error: 0.5486\n"
     ]
    },
    {
     "name": "stdout",
     "output_type": "stream",
     "text": [
      "Epoch 85/100\n",
      "62/62 [==============================] - 0s 3ms/step - loss: 0.1085 - y1_output_loss: 0.0653 - y2_output_loss: 0.0431 - y1_output_root_mean_squared_error: 0.2556 - y2_output_root_mean_squared_error: 0.2077 - val_loss: 0.5724 - val_y1_output_loss: 0.2046 - val_y2_output_loss: 0.3678 - val_y1_output_root_mean_squared_error: 0.4524 - val_y2_output_root_mean_squared_error: 0.6065\n",
      "Epoch 86/100\n",
      "62/62 [==============================] - 0s 4ms/step - loss: 0.1068 - y1_output_loss: 0.0603 - y2_output_loss: 0.0465 - y1_output_root_mean_squared_error: 0.2456 - y2_output_root_mean_squared_error: 0.2156 - val_loss: 0.6532 - val_y1_output_loss: 0.2345 - val_y2_output_loss: 0.4187 - val_y1_output_root_mean_squared_error: 0.4842 - val_y2_output_root_mean_squared_error: 0.6471\n",
      "Epoch 87/100\n",
      "62/62 [==============================] - 0s 4ms/step - loss: 0.1102 - y1_output_loss: 0.0675 - y2_output_loss: 0.0427 - y1_output_root_mean_squared_error: 0.2599 - y2_output_root_mean_squared_error: 0.2066 - val_loss: 0.5184 - val_y1_output_loss: 0.1899 - val_y2_output_loss: 0.3284 - val_y1_output_root_mean_squared_error: 0.4358 - val_y2_output_root_mean_squared_error: 0.5731\n",
      "Epoch 88/100\n",
      "62/62 [==============================] - 0s 4ms/step - loss: 0.1059 - y1_output_loss: 0.0608 - y2_output_loss: 0.0452 - y1_output_root_mean_squared_error: 0.2466 - y2_output_root_mean_squared_error: 0.2125 - val_loss: 0.5258 - val_y1_output_loss: 0.1967 - val_y2_output_loss: 0.3292 - val_y1_output_root_mean_squared_error: 0.4435 - val_y2_output_root_mean_squared_error: 0.5737\n",
      "Epoch 89/100\n",
      "62/62 [==============================] - 0s 3ms/step - loss: 0.1023 - y1_output_loss: 0.0611 - y2_output_loss: 0.0412 - y1_output_root_mean_squared_error: 0.2472 - y2_output_root_mean_squared_error: 0.2031 - val_loss: 0.6112 - val_y1_output_loss: 0.2154 - val_y2_output_loss: 0.3958 - val_y1_output_root_mean_squared_error: 0.4641 - val_y2_output_root_mean_squared_error: 0.6291\n",
      "Epoch 90/100\n",
      "62/62 [==============================] - 0s 3ms/step - loss: 0.1001 - y1_output_loss: 0.0586 - y2_output_loss: 0.0415 - y1_output_root_mean_squared_error: 0.2421 - y2_output_root_mean_squared_error: 0.2037 - val_loss: 0.5260 - val_y1_output_loss: 0.1907 - val_y2_output_loss: 0.3353 - val_y1_output_root_mean_squared_error: 0.4367 - val_y2_output_root_mean_squared_error: 0.5790\n",
      "Epoch 91/100\n",
      "62/62 [==============================] - 0s 3ms/step - loss: 0.1040 - y1_output_loss: 0.0628 - y2_output_loss: 0.0412 - y1_output_root_mean_squared_error: 0.2507 - y2_output_root_mean_squared_error: 0.2029 - val_loss: 0.5243 - val_y1_output_loss: 0.2010 - val_y2_output_loss: 0.3233 - val_y1_output_root_mean_squared_error: 0.4484 - val_y2_output_root_mean_squared_error: 0.5686\n",
      "Epoch 92/100\n",
      "62/62 [==============================] - 0s 6ms/step - loss: 0.1055 - y1_output_loss: 0.0646 - y2_output_loss: 0.0409 - y1_output_root_mean_squared_error: 0.2542 - y2_output_root_mean_squared_error: 0.2022 - val_loss: 0.4879 - val_y1_output_loss: 0.1830 - val_y2_output_loss: 0.3049 - val_y1_output_root_mean_squared_error: 0.4278 - val_y2_output_root_mean_squared_error: 0.5522\n",
      "Epoch 93/100\n",
      "62/62 [==============================] - 0s 5ms/step - loss: 0.1127 - y1_output_loss: 0.0617 - y2_output_loss: 0.0511 - y1_output_root_mean_squared_error: 0.2483 - y2_output_root_mean_squared_error: 0.2260 - val_loss: 0.5098 - val_y1_output_loss: 0.2021 - val_y2_output_loss: 0.3077 - val_y1_output_root_mean_squared_error: 0.4496 - val_y2_output_root_mean_squared_error: 0.5547\n",
      "Epoch 94/100\n",
      "62/62 [==============================] - 0s 3ms/step - loss: 0.1025 - y1_output_loss: 0.0619 - y2_output_loss: 0.0406 - y1_output_root_mean_squared_error: 0.2489 - y2_output_root_mean_squared_error: 0.2015 - val_loss: 0.5339 - val_y1_output_loss: 0.2090 - val_y2_output_loss: 0.3249 - val_y1_output_root_mean_squared_error: 0.4572 - val_y2_output_root_mean_squared_error: 0.5700\n",
      "Epoch 95/100\n",
      "62/62 [==============================] - 0s 3ms/step - loss: 0.1004 - y1_output_loss: 0.0627 - y2_output_loss: 0.0377 - y1_output_root_mean_squared_error: 0.2505 - y2_output_root_mean_squared_error: 0.1940 - val_loss: 0.4922 - val_y1_output_loss: 0.1902 - val_y2_output_loss: 0.3020 - val_y1_output_root_mean_squared_error: 0.4361 - val_y2_output_root_mean_squared_error: 0.5496\n",
      "Epoch 96/100\n",
      "62/62 [==============================] - 0s 3ms/step - loss: 0.1042 - y1_output_loss: 0.0634 - y2_output_loss: 0.0408 - y1_output_root_mean_squared_error: 0.2518 - y2_output_root_mean_squared_error: 0.2021 - val_loss: 0.5450 - val_y1_output_loss: 0.1995 - val_y2_output_loss: 0.3455 - val_y1_output_root_mean_squared_error: 0.4467 - val_y2_output_root_mean_squared_error: 0.5878\n",
      "Epoch 97/100\n",
      "62/62 [==============================] - 0s 3ms/step - loss: 0.1096 - y1_output_loss: 0.0694 - y2_output_loss: 0.0402 - y1_output_root_mean_squared_error: 0.2635 - y2_output_root_mean_squared_error: 0.2005 - val_loss: 0.5510 - val_y1_output_loss: 0.2204 - val_y2_output_loss: 0.3306 - val_y1_output_root_mean_squared_error: 0.4695 - val_y2_output_root_mean_squared_error: 0.5749\n",
      "Epoch 98/100\n",
      "62/62 [==============================] - 0s 2ms/step - loss: 0.0987 - y1_output_loss: 0.0586 - y2_output_loss: 0.0401 - y1_output_root_mean_squared_error: 0.2422 - y2_output_root_mean_squared_error: 0.2002 - val_loss: 0.7150 - val_y1_output_loss: 0.3377 - val_y2_output_loss: 0.3773 - val_y1_output_root_mean_squared_error: 0.5812 - val_y2_output_root_mean_squared_error: 0.6142\n",
      "Epoch 99/100\n",
      "62/62 [==============================] - 0s 2ms/step - loss: 0.1084 - y1_output_loss: 0.0638 - y2_output_loss: 0.0446 - y1_output_root_mean_squared_error: 0.2525 - y2_output_root_mean_squared_error: 0.2112 - val_loss: 0.5347 - val_y1_output_loss: 0.1899 - val_y2_output_loss: 0.3448 - val_y1_output_root_mean_squared_error: 0.4358 - val_y2_output_root_mean_squared_error: 0.5872\n",
      "Epoch 100/100\n",
      "62/62 [==============================] - 0s 2ms/step - loss: 0.1087 - y1_output_loss: 0.0658 - y2_output_loss: 0.0429 - y1_output_root_mean_squared_error: 0.2565 - y2_output_root_mean_squared_error: 0.2072 - val_loss: 0.5452 - val_y1_output_loss: 0.1924 - val_y2_output_loss: 0.3528 - val_y1_output_root_mean_squared_error: 0.4386 - val_y2_output_root_mean_squared_error: 0.5940\n"
     ]
    }
   ],
   "source": [
    "history = model.fit(X_train, Y_train, epochs = 100, batch_size = 10, validation_data = (X_test, Y_test))"
   ]
  },
  {
   "cell_type": "markdown",
   "id": "c04f46c5",
   "metadata": {},
   "source": [
    "### Model Evaluation"
   ]
  },
  {
   "cell_type": "code",
   "execution_count": 182,
   "id": "a73d4878",
   "metadata": {},
   "outputs": [
    {
     "name": "stdout",
     "output_type": "stream",
     "text": [
      "5/5 [==============================] - 0s 2ms/step\n"
     ]
    },
    {
     "data": {
      "image/png": "[encoded data removed]",
      "text/plain": [
       "<Figure size 432x288 with 1 Axes>"
      ]
     },
     "metadata": {
      "needs_background": "light"
     },
     "output_type": "display_data"
    },
    {
     "data": {
      "image/png": "[encoded data removed]",
      "text/plain": [
       "<Figure size 432x288 with 1 Axes>"
      ]
     },
     "metadata": {
      "needs_background": "light"
     },
     "output_type": "display_data"
    },
    {
     "data": {
      "image/png": "[encoded data removed]",
      "text/plain": [
       "<Figure size 432x288 with 1 Axes>"
      ]
     },
     "metadata": {
      "needs_background": "light"
     },
     "output_type": "display_data"
    },
    {
     "data": {
      "image/png": "[encoded data removed]",
      "text/plain": [
       "<Figure size 432x288 with 1 Axes>"
      ]
     },
     "metadata": {
      "needs_background": "light"
     },
     "output_type": "display_data"
    }
   ],
   "source": [
    "def plot_diff(y_true, y_pred, title = \"\"):\n",
    "    plt.scatter(y_true, y_pred)\n",
    "    plt.title(title)\n",
    "    plt.xlabel(\"True Values\")\n",
    "    plt.ylabel(\"Predictions\")\n",
    "    plt.axis(\"equal\")\n",
    "    plt.axis(\"square\")\n",
    "    plt.xlim(plt.xlim())\n",
    "    plt.ylim(plt.ylim())\n",
    "    plt.plot([-100, 100], [-100, 100])\n",
    "    plt.show()\n",
    "def plot_metrics(metric_name, title, ylim=5):\n",
    "    plt.title(title)\n",
    "    plt.ylim(0, ylim)\n",
    "    plt.plot(history.history[metric_name], color='blue', label=metric_name)\n",
    "    plt.plot(history.history[\"val_\" + metric_name], color = \"green\", label = \"val_\" + metric_name)\n",
    "    plt.legend()\n",
    "    plt.show()\n",
    "Y_pred = model.predict(X_test)\n",
    "plot_diff(Y_test[0], Y_pred[0], title = \"Heating_Load\")\n",
    "plot_diff(Y_test[1], Y_pred[1], title = \"Cooling_Load\")\n",
    "plot_metrics(metric_name = \"y1_output_root_mean_squared_error\", title = \"Heating_Load\", ylim = 6)\n",
    "plot_metrics(metric_name = \"y2_output_root_mean_squared_error\", title = \"Y2 RMSE\", ylim = 7)"
   ]
  },
  {
   "cell_type": "code",
   "execution_count": 183,
   "id": "bc64f9c5",
   "metadata": {},
   "outputs": [
    {
     "name": "stdout",
     "output_type": "stream",
     "text": [
      "5/5 [==============================] - 0s 2ms/step - loss: 0.5452 - y1_output_loss: 0.1924 - y2_output_loss: 0.3528 - y1_output_root_mean_squared_error: 0.4386 - y2_output_root_mean_squared_error: 0.5940\n"
     ]
    }
   ],
   "source": [
    "model_eval = model.evaluate(x = X_test, y = Y_test)"
   ]
  },
  {
   "cell_type": "markdown",
   "id": "6680588d",
   "metadata": {},
   "source": [
    "This model predicts heating and cooling loads very accurately, as shown by the low RMSE on both predictions and how closely the predictions adhere to the actual value lines."
   ]
  }
 ],
 "metadata": {
  "kernelspec": {
   "display_name": "Python 3 (ipykernel)",
   "language": "python",
   "name": "python3"
  },
  "language_info": {
   "codemirror_mode": {
    "name": "ipython",
    "version": 3
   },
   "file_extension": ".py",
   "mimetype": "text/x-python",
   "name": "python",
   "nbconvert_exporter": "python",
   "pygments_lexer": "ipython3",
   "version": "3.9.12"
  }
 },
 "nbformat": 4,
 "nbformat_minor": 5
}
